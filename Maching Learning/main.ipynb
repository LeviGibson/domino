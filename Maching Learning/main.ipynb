{
 "cells": [
  {
   "cell_type": "code",
   "execution_count": 1,
   "metadata": {},
   "outputs": [
    {
     "name": "stderr",
     "output_type": "stream",
     "text": [
      "2023-12-01 14:38:51.052270: W tensorflow/stream_executor/platform/default/dso_loader.cc:64] Could not load dynamic library 'libcudart.so.11.0'; dlerror: libcudart.so.11.0: cannot open shared object file: No such file or directory\n",
      "2023-12-01 14:38:51.052311: I tensorflow/stream_executor/cuda/cudart_stub.cc:29] Ignore above cudart dlerror if you do not have a GPU set up on your machine.\n"
     ]
    }
   ],
   "source": [
    "import pandas as pd\n",
    "import tensorflow as tf\n",
    "import numpy as np\n",
    "from tensorflow.keras.layers import Dense\n",
    "from tensorflow.keras.models import Sequential\n",
    "from tensorflow.keras.utils import to_categorical \n",
    "import dask.dataframe as dd"
   ]
  },
  {
   "cell_type": "code",
   "execution_count": 2,
   "metadata": {},
   "outputs": [],
   "source": [
    "# x = []\n",
    "# y = []\n",
    "\n",
    "# infile = open(\"dataset.csv\", 'r')\n",
    "# for line in infile:\n",
    "#     line = line.split(',')\n",
    "#     print(line)\n",
    "\n",
    "x = pd.read_csv(\"dataset.csv\", low_memory=True)\n",
    "x.pop(x.columns[-1])\n",
    "y = x.pop(\"label\")\n",
    "# y = x.pop(\"blocks\")\n",
    "x = x.to_numpy()\n",
    "y = y.to_numpy()\n",
    "\n",
    "# x = np.ones(x.shape)\n",
    "\n",
    "# x = np.zeros(dtype=bool, shape=(int(5000000/1000), 1000, 3))\n",
    "# print(\"done\")\n",
    "# y = []\n",
    "# for id, xp in enumerate(pd.read_csv(\"dataset.csv\", chunksize=1000)):\n",
    "#     xp.pop(xp.columns[-1])\n",
    "#     yp = xp.pop(\"label\")\n",
    "#     x[id] = xp.to_numpy().astype(bool)\n",
    "#     y.append(yp.to_numpy())\n",
    "\n",
    "# y = to_categorical(y, num_classes=20)"
   ]
  },
  {
   "cell_type": "code",
   "execution_count": 3,
   "metadata": {},
   "outputs": [
    {
     "name": "stderr",
     "output_type": "stream",
     "text": [
      "2023-12-01 14:38:54.873680: I tensorflow/stream_executor/cuda/cuda_gpu_executor.cc:936] successful NUMA node read from SysFS had negative value (-1), but there must be at least one NUMA node, so returning NUMA node zero\n",
      "2023-12-01 14:38:54.874145: W tensorflow/stream_executor/platform/default/dso_loader.cc:64] Could not load dynamic library 'libcudart.so.11.0'; dlerror: libcudart.so.11.0: cannot open shared object file: No such file or directory\n",
      "2023-12-01 14:38:54.874292: W tensorflow/stream_executor/platform/default/dso_loader.cc:64] Could not load dynamic library 'libcublas.so.11'; dlerror: libcublas.so.11: cannot open shared object file: No such file or directory\n",
      "2023-12-01 14:38:54.874336: W tensorflow/stream_executor/platform/default/dso_loader.cc:64] Could not load dynamic library 'libcublasLt.so.11'; dlerror: libcublasLt.so.11: cannot open shared object file: No such file or directory\n",
      "2023-12-01 14:38:54.874370: W tensorflow/stream_executor/platform/default/dso_loader.cc:64] Could not load dynamic library 'libcufft.so.10'; dlerror: libcufft.so.10: cannot open shared object file: No such file or directory\n",
      "2023-12-01 14:38:54.874405: W tensorflow/stream_executor/platform/default/dso_loader.cc:64] Could not load dynamic library 'libcurand.so.10'; dlerror: libcurand.so.10: cannot open shared object file: No such file or directory\n",
      "2023-12-01 14:38:54.874436: W tensorflow/stream_executor/platform/default/dso_loader.cc:64] Could not load dynamic library 'libcusolver.so.11'; dlerror: libcusolver.so.11: cannot open shared object file: No such file or directory\n",
      "2023-12-01 14:38:54.874468: W tensorflow/stream_executor/platform/default/dso_loader.cc:64] Could not load dynamic library 'libcusparse.so.11'; dlerror: libcusparse.so.11: cannot open shared object file: No such file or directory\n",
      "2023-12-01 14:38:54.874501: W tensorflow/stream_executor/platform/default/dso_loader.cc:64] Could not load dynamic library 'libcudnn.so.8'; dlerror: libcudnn.so.8: cannot open shared object file: No such file or directory\n",
      "2023-12-01 14:38:54.874508: W tensorflow/core/common_runtime/gpu/gpu_device.cc:1850] Cannot dlopen some GPU libraries. Please make sure the missing libraries mentioned above are installed properly if you would like to use GPU. Follow the guide at https://www.tensorflow.org/install/gpu for how to download and setup the required libraries for your platform.\n",
      "Skipping registering GPU devices...\n",
      "2023-12-01 14:38:54.874746: I tensorflow/core/platform/cpu_feature_guard.cc:151] This TensorFlow binary is optimized with oneAPI Deep Neural Network Library (oneDNN) to use the following CPU instructions in performance-critical operations:  AVX2 FMA\n",
      "To enable them in other operations, rebuild TensorFlow with the appropriate compiler flags.\n"
     ]
    }
   ],
   "source": [
    "model = Sequential()\n",
    "model.add(Dense(64, activation='relu', input_shape=(x.shape[1],)))\n",
    "model.add(Dense(32, activation='relu'))\n",
    "model.add(Dense(32, activation='relu'))\n",
    "model.add(Dense(1))"
   ]
  },
  {
   "cell_type": "code",
   "execution_count": 4,
   "metadata": {},
   "outputs": [
    {
     "name": "stdout",
     "output_type": "stream",
     "text": [
      "Epoch 1/10\n",
      "290/290 [==============================] - 1s 3ms/step - loss: 13.6878 - mae: 2.4156 - val_loss: nan - val_mae: nan\n",
      "Epoch 2/10\n",
      "290/290 [==============================] - 1s 3ms/step - loss: 3.2229 - mae: 1.4298 - val_loss: nan - val_mae: nan\n",
      "Epoch 3/10\n",
      "290/290 [==============================] - 1s 2ms/step - loss: 3.0701 - mae: 1.3909 - val_loss: nan - val_mae: nan\n",
      "Epoch 4/10\n",
      "290/290 [==============================] - 1s 3ms/step - loss: 3.0179 - mae: 1.3760 - val_loss: nan - val_mae: nan\n",
      "Epoch 5/10\n",
      "290/290 [==============================] - 1s 3ms/step - loss: 2.9683 - mae: 1.3658 - val_loss: nan - val_mae: nan\n",
      "Epoch 6/10\n",
      "290/290 [==============================] - 1s 3ms/step - loss: 2.9107 - mae: 1.3522 - val_loss: nan - val_mae: nan\n",
      "Epoch 7/10\n",
      "290/290 [==============================] - 1s 2ms/step - loss: 2.8844 - mae: 1.3481 - val_loss: nan - val_mae: nan\n",
      "Epoch 8/10\n",
      "290/290 [==============================] - 1s 3ms/step - loss: 2.8309 - mae: 1.3332 - val_loss: nan - val_mae: nan\n",
      "Epoch 9/10\n",
      "290/290 [==============================] - 1s 3ms/step - loss: 2.8302 - mae: 1.3324 - val_loss: nan - val_mae: nan\n",
      "Epoch 10/10\n",
      "290/290 [==============================] - 1s 2ms/step - loss: 2.7896 - mae: 1.3224 - val_loss: nan - val_mae: nan\n"
     ]
    },
    {
     "data": {
      "text/plain": [
       "'\\nMisoriented + block score :) (only on normal)\\nEpoch 1/10\\n1250/1250 [==============================] - 4s 3ms/step - loss: 3.1744 - mae: 1.0876 - val_loss: 1.2139 - val_mae: 0.8509\\nEpoch 2/10\\n1250/1250 [==============================] - 3s 3ms/step - loss: 1.2219 - mae: 0.8613 - val_loss: 1.2056 - val_mae: 0.8724\\nEpoch 3/10\\n1250/1250 [==============================] - 3s 3ms/step - loss: 1.1971 - mae: 0.8513 - val_loss: 1.1630 - val_mae: 0.8485\\nEpoch 4/10\\n1250/1250 [==============================] - 3s 3ms/step - loss: 1.1836 - mae: 0.8482 - val_loss: 1.2521 - val_mae: 0.9156\\nEpoch 5/10\\n1250/1250 [==============================] - 3s 3ms/step - loss: 1.1647 - mae: 0.8414 - val_loss: 1.1111 - val_mae: 0.8177\\nEpoch 6/10\\n1250/1250 [==============================] - 3s 3ms/step - loss: 1.1351 - mae: 0.8298 - val_loss: 1.1160 - val_mae: 0.8136\\nEpoch 7/10\\n1250/1250 [==============================] - 4s 3ms/step - loss: 1.1228 - mae: 0.8270 - val_loss: 1.0809 - val_mae: 0.8100\\n'"
      ]
     },
     "execution_count": 4,
     "metadata": {},
     "output_type": "execute_result"
    }
   ],
   "source": [
    "model.compile(optimizer='adam', loss='mse', metrics=['mae'])\n",
    "\n",
    "model.fit(x, y, batch_size=64, epochs=10, validation_split=0.2)\n",
    "\n",
    "\"\"\"\n",
    "Misoriented on normal+inverse\n",
    "Epoch 1/10\n",
    "1250/1250 [==============================] - 4s 2ms/step - loss: 3.3602 - mae: 1.1505 - val_loss: 1.3675 - val_mae: 0.9304\n",
    "Epoch 2/10\n",
    "1250/1250 [==============================] - 3s 2ms/step - loss: 1.3288 - mae: 0.8996 - val_loss: 1.2687 - val_mae: 0.8712\n",
    "Epoch 3/10\n",
    "1250/1250 [==============================] - 3s 2ms/step - loss: 1.2896 - mae: 0.8852 - val_loss: 1.2479 - val_mae: 0.8704\n",
    "Epoch 4/10\n",
    "1250/1250 [==============================] - 3s 2ms/step - loss: 1.2789 - mae: 0.8821 - val_loss: 1.3905 - val_mae: 0.9664\n",
    "Epoch 5/10\n",
    "1250/1250 [==============================] - 3s 2ms/step - loss: 1.2709 - mae: 0.8799 - val_loss: 1.2235 - val_mae: 0.8588\n",
    "Epoch 6/10\n",
    "1250/1250 [==============================] - 3s 2ms/step - loss: 1.2688 - mae: 0.8793 - val_loss: 1.3201 - val_mae: 0.8679\n",
    "Epoch 7/10\n",
    "1250/1250 [==============================] - 3s 2ms/step - loss: 1.2627 - mae: 0.8763 - val_loss: 1.2563 - val_mae: 0.8938\n",
    "\"\"\"\n",
    "\n",
    "\"\"\"\n",
    "Misoriented + block score :) (only on normal)\n",
    "Epoch 1/10\n",
    "1250/1250 [==============================] - 4s 3ms/step - loss: 3.1744 - mae: 1.0876 - val_loss: 1.2139 - val_mae: 0.8509\n",
    "Epoch 2/10\n",
    "1250/1250 [==============================] - 3s 3ms/step - loss: 1.2219 - mae: 0.8613 - val_loss: 1.2056 - val_mae: 0.8724\n",
    "Epoch 3/10\n",
    "1250/1250 [==============================] - 3s 3ms/step - loss: 1.1971 - mae: 0.8513 - val_loss: 1.1630 - val_mae: 0.8485\n",
    "Epoch 4/10\n",
    "1250/1250 [==============================] - 3s 3ms/step - loss: 1.1836 - mae: 0.8482 - val_loss: 1.2521 - val_mae: 0.9156\n",
    "Epoch 5/10\n",
    "1250/1250 [==============================] - 3s 3ms/step - loss: 1.1647 - mae: 0.8414 - val_loss: 1.1111 - val_mae: 0.8177\n",
    "Epoch 6/10\n",
    "1250/1250 [==============================] - 3s 3ms/step - loss: 1.1351 - mae: 0.8298 - val_loss: 1.1160 - val_mae: 0.8136\n",
    "Epoch 7/10\n",
    "1250/1250 [==============================] - 4s 3ms/step - loss: 1.1228 - mae: 0.8270 - val_loss: 1.0809 - val_mae: 0.8100\n",
    "\"\"\""
   ]
  }
 ],
 "metadata": {
  "kernelspec": {
   "display_name": "Python 3",
   "language": "python",
   "name": "python3"
  },
  "language_info": {
   "codemirror_mode": {
    "name": "ipython",
    "version": 3
   },
   "file_extension": ".py",
   "mimetype": "text/x-python",
   "name": "python",
   "nbconvert_exporter": "python",
   "pygments_lexer": "ipython3",
   "version": "3.8.10"
  },
  "orig_nbformat": 4
 },
 "nbformat": 4,
 "nbformat_minor": 2
}
