{
 "cells": [
  {
   "cell_type": "code",
   "execution_count": 19,
   "metadata": {},
   "outputs": [],
   "source": [
    "import pandas as pd\n",
    "import tensorflow as tf\n",
    "from tensorflow.keras.layers import Dense\n",
    "from tensorflow.keras.models import Sequential\n",
    "from tensorflow.keras.utils import to_categorical "
   ]
  },
  {
   "cell_type": "code",
   "execution_count": 23,
   "metadata": {},
   "outputs": [],
   "source": [
    "x = pd.read_csv(\"dataset.csv\")\n",
    "x.pop(\"Unnamed: 49\")\n",
    "y = x.pop(\"label\")\n",
    "x = x.to_numpy()\n",
    "y = y.to_numpy()\n",
    "\n",
    "y = to_categorical(y, num_classes=20)"
   ]
  },
  {
   "cell_type": "code",
   "execution_count": 24,
   "metadata": {},
   "outputs": [],
   "source": [
    "model = Sequential()\n",
    "model.add(Dense(128, activation='relu', input_shape=(x.shape[1],)))\n",
    "model.add(Dense(64, activation='relu'))\n",
    "model.add(Dense(20))"
   ]
  },
  {
   "cell_type": "code",
   "execution_count": 25,
   "metadata": {},
   "outputs": [
    {
     "name": "stdout",
     "output_type": "stream",
     "text": [
      "Epoch 1/10\n",
      "25000/25000 [==============================] - 64s 3ms/step - loss: 6.9448 - accuracy: 0.1505 - val_loss: 6.6680 - val_accuracy: 0.1427\n",
      "Epoch 2/10\n",
      "25000/25000 [==============================] - 83s 3ms/step - loss: 6.6746 - accuracy: 0.1432 - val_loss: 6.6680 - val_accuracy: 0.1427\n",
      "Epoch 3/10\n",
      "25000/25000 [==============================] - 60s 2ms/step - loss: 6.6746 - accuracy: 0.1432 - val_loss: 6.6680 - val_accuracy: 0.1427\n",
      "Epoch 4/10\n",
      "25000/25000 [==============================] - 57s 2ms/step - loss: 6.6746 - accuracy: 0.1432 - val_loss: 6.6680 - val_accuracy: 0.1427\n",
      "Epoch 5/10\n",
      "25000/25000 [==============================] - 56s 2ms/step - loss: 6.6746 - accuracy: 0.1432 - val_loss: 6.6680 - val_accuracy: 0.1427\n",
      "Epoch 6/10\n",
      "25000/25000 [==============================] - 63s 3ms/step - loss: 6.6746 - accuracy: 0.1432 - val_loss: 6.6680 - val_accuracy: 0.1427\n",
      "Epoch 7/10\n",
      "25000/25000 [==============================] - 89s 4ms/step - loss: 6.6746 - accuracy: 0.1432 - val_loss: 6.6680 - val_accuracy: 0.1427\n",
      "Epoch 8/10\n",
      "25000/25000 [==============================] - 87s 3ms/step - loss: 6.6746 - accuracy: 0.1432 - val_loss: 6.6680 - val_accuracy: 0.1427\n",
      "Epoch 9/10\n",
      "25000/25000 [==============================] - 88s 4ms/step - loss: 6.6746 - accuracy: 0.1432 - val_loss: 6.6680 - val_accuracy: 0.1427\n",
      "Epoch 10/10\n",
      "25000/25000 [==============================] - 87s 3ms/step - loss: 6.6746 - accuracy: 0.1432 - val_loss: 6.6680 - val_accuracy: 0.1427\n"
     ]
    },
    {
     "data": {
      "text/plain": [
       "<keras.callbacks.History at 0x7fc995e2ab50>"
      ]
     },
     "execution_count": 25,
     "metadata": {},
     "output_type": "execute_result"
    }
   ],
   "source": [
    "model.compile(optimizer='adam', loss='categorical_crossentropy', metrics=['accuracy'])\n",
    "model.fit(x, y, batch_size=32, epochs=10, validation_split=0.2)\n",
    "\n",
    "#5516/5516 [==============================] - 15s 3ms/step - loss: 8.9091 - accuracy: 0.1406 - val_loss: 8.9105 - val_accuracy: 0.1390"
   ]
  }
 ],
 "metadata": {
  "kernelspec": {
   "display_name": "Python 3",
   "language": "python",
   "name": "python3"
  },
  "language_info": {
   "codemirror_mode": {
    "name": "ipython",
    "version": 3
   },
   "file_extension": ".py",
   "mimetype": "text/x-python",
   "name": "python",
   "nbconvert_exporter": "python",
   "pygments_lexer": "ipython3",
   "version": "3.8.5"
  },
  "orig_nbformat": 4
 },
 "nbformat": 4,
 "nbformat_minor": 2
}
